{
 "cells": [
  {
   "cell_type": "markdown",
   "id": "communist-particular",
   "metadata": {},
   "source": [
    "## import library"
   ]
  },
  {
   "cell_type": "code",
   "execution_count": 1,
   "id": "turkish-aurora",
   "metadata": {},
   "outputs": [],
   "source": [
    "import pandas as pd\n",
    "import keras\n",
    "import matplotlib.pyplot as plt\n",
    "import numpy as np\n",
    "import seaborn as sns"
   ]
  },
  {
   "cell_type": "markdown",
   "id": "biblical-license",
   "metadata": {},
   "source": [
    "## open csv file as pandas dataframe"
   ]
  },
  {
   "cell_type": "code",
   "execution_count": 2,
   "id": "sorted-chosen",
   "metadata": {},
   "outputs": [],
   "source": [
    "signal_df = pd.read_csv('signal_new.csv').drop('entry', axis=1)"
   ]
  },
  {
   "cell_type": "code",
   "execution_count": 3,
   "id": "correct-somalia",
   "metadata": {},
   "outputs": [],
   "source": [
    "background_df = pd.read_csv('background_new.csv').drop('entry', axis=1)"
   ]
  },
  {
   "cell_type": "markdown",
   "id": "fatty-antique",
   "metadata": {},
   "source": [
    "## label "
   ]
  },
  {
   "cell_type": "code",
   "execution_count": 4,
   "id": "possible-relief",
   "metadata": {},
   "outputs": [],
   "source": [
    "signal_label = np.ones(398263)\n",
    "signal_df['label'] = signal_label"
   ]
  },
  {
   "cell_type": "code",
   "execution_count": 5,
   "id": "official-assignment",
   "metadata": {},
   "outputs": [],
   "source": [
    "background_df['label']=np.zeros(137269)"
   ]
  },
  {
   "cell_type": "markdown",
   "id": "according-hughes",
   "metadata": {},
   "source": [
    "## dataset sumup"
   ]
  },
  {
   "cell_type": "code",
   "execution_count": 6,
   "id": "dangerous-partition",
   "metadata": {
    "scrolled": false
   },
   "outputs": [
    {
     "data": {
      "text/html": [
       "<div>\n",
       "<style scoped>\n",
       "    .dataframe tbody tr th:only-of-type {\n",
       "        vertical-align: middle;\n",
       "    }\n",
       "\n",
       "    .dataframe tbody tr th {\n",
       "        vertical-align: top;\n",
       "    }\n",
       "\n",
       "    .dataframe thead th {\n",
       "        text-align: right;\n",
       "    }\n",
       "</style>\n",
       "<table border=\"1\" class=\"dataframe\">\n",
       "  <thead>\n",
       "    <tr style=\"text-align: right;\">\n",
       "      <th></th>\n",
       "      <th>mbb</th>\n",
       "      <th>weight</th>\n",
       "      <th>njets</th>\n",
       "      <th>nbjets</th>\n",
       "      <th>ptbb</th>\n",
       "      <th>etabb</th>\n",
       "      <th>phibb</th>\n",
       "      <th>ebb</th>\n",
       "      <th>dRbb</th>\n",
       "      <th>dEtabb</th>\n",
       "      <th>...</th>\n",
       "      <th>dEta23</th>\n",
       "      <th>dPhi23</th>\n",
       "      <th>mj4</th>\n",
       "      <th>ptj4</th>\n",
       "      <th>etaj4</th>\n",
       "      <th>phij4</th>\n",
       "      <th>ej4</th>\n",
       "      <th>btagj4</th>\n",
       "      <th>qglikelihoodj4</th>\n",
       "      <th>label</th>\n",
       "    </tr>\n",
       "  </thead>\n",
       "  <tbody>\n",
       "    <tr>\n",
       "      <th>0</th>\n",
       "      <td>128.748718</td>\n",
       "      <td>1.266521</td>\n",
       "      <td>7</td>\n",
       "      <td>2</td>\n",
       "      <td>135.384552</td>\n",
       "      <td>-0.805419</td>\n",
       "      <td>-0.574222</td>\n",
       "      <td>222.708755</td>\n",
       "      <td>1.975177</td>\n",
       "      <td>0.907259</td>\n",
       "      <td>...</td>\n",
       "      <td>2.923688</td>\n",
       "      <td>2.859488</td>\n",
       "      <td>5.701911</td>\n",
       "      <td>29.570999</td>\n",
       "      <td>0.633291</td>\n",
       "      <td>2.527016</td>\n",
       "      <td>36.154144</td>\n",
       "      <td>0.750850</td>\n",
       "      <td>0.563677</td>\n",
       "      <td>1.0</td>\n",
       "    </tr>\n",
       "    <tr>\n",
       "      <th>1</th>\n",
       "      <td>323.834320</td>\n",
       "      <td>1.221307</td>\n",
       "      <td>8</td>\n",
       "      <td>4</td>\n",
       "      <td>78.824593</td>\n",
       "      <td>-1.744408</td>\n",
       "      <td>-0.241483</td>\n",
       "      <td>398.609894</td>\n",
       "      <td>2.956917</td>\n",
       "      <td>1.084536</td>\n",
       "      <td>...</td>\n",
       "      <td>1.669306</td>\n",
       "      <td>0.536129</td>\n",
       "      <td>5.549069</td>\n",
       "      <td>23.957195</td>\n",
       "      <td>-4.069767</td>\n",
       "      <td>2.107588</td>\n",
       "      <td>701.493103</td>\n",
       "      <td>0.054843</td>\n",
       "      <td>0.040889</td>\n",
       "      <td>1.0</td>\n",
       "    </tr>\n",
       "    <tr>\n",
       "      <th>2</th>\n",
       "      <td>288.848236</td>\n",
       "      <td>0.858359</td>\n",
       "      <td>4</td>\n",
       "      <td>3</td>\n",
       "      <td>82.293976</td>\n",
       "      <td>1.627124</td>\n",
       "      <td>1.730240</td>\n",
       "      <td>361.573914</td>\n",
       "      <td>2.707124</td>\n",
       "      <td>0.015462</td>\n",
       "      <td>...</td>\n",
       "      <td>0.954234</td>\n",
       "      <td>1.812456</td>\n",
       "      <td>4.562911</td>\n",
       "      <td>28.454098</td>\n",
       "      <td>1.619449</td>\n",
       "      <td>-1.027924</td>\n",
       "      <td>74.807343</td>\n",
       "      <td>0.728906</td>\n",
       "      <td>0.884353</td>\n",
       "      <td>1.0</td>\n",
       "    </tr>\n",
       "    <tr>\n",
       "      <th>3</th>\n",
       "      <td>107.835846</td>\n",
       "      <td>0.050859</td>\n",
       "      <td>4</td>\n",
       "      <td>3</td>\n",
       "      <td>17.217613</td>\n",
       "      <td>-3.646276</td>\n",
       "      <td>-2.009611</td>\n",
       "      <td>347.376099</td>\n",
       "      <td>2.877990</td>\n",
       "      <td>0.090561</td>\n",
       "      <td>...</td>\n",
       "      <td>3.567277</td>\n",
       "      <td>2.119354</td>\n",
       "      <td>3.452726</td>\n",
       "      <td>16.632441</td>\n",
       "      <td>-0.966053</td>\n",
       "      <td>-1.661778</td>\n",
       "      <td>25.253466</td>\n",
       "      <td>0.046178</td>\n",
       "      <td>-1.000000</td>\n",
       "      <td>1.0</td>\n",
       "    </tr>\n",
       "    <tr>\n",
       "      <th>4</th>\n",
       "      <td>248.304901</td>\n",
       "      <td>0.958807</td>\n",
       "      <td>7</td>\n",
       "      <td>3</td>\n",
       "      <td>28.405352</td>\n",
       "      <td>1.845880</td>\n",
       "      <td>-0.232091</td>\n",
       "      <td>264.869232</td>\n",
       "      <td>3.197687</td>\n",
       "      <td>1.355985</td>\n",
       "      <td>...</td>\n",
       "      <td>1.064546</td>\n",
       "      <td>0.832365</td>\n",
       "      <td>10.167414</td>\n",
       "      <td>50.971561</td>\n",
       "      <td>1.470771</td>\n",
       "      <td>-2.602962</td>\n",
       "      <td>117.226265</td>\n",
       "      <td>0.663049</td>\n",
       "      <td>0.088564</td>\n",
       "      <td>1.0</td>\n",
       "    </tr>\n",
       "    <tr>\n",
       "      <th>...</th>\n",
       "      <td>...</td>\n",
       "      <td>...</td>\n",
       "      <td>...</td>\n",
       "      <td>...</td>\n",
       "      <td>...</td>\n",
       "      <td>...</td>\n",
       "      <td>...</td>\n",
       "      <td>...</td>\n",
       "      <td>...</td>\n",
       "      <td>...</td>\n",
       "      <td>...</td>\n",
       "      <td>...</td>\n",
       "      <td>...</td>\n",
       "      <td>...</td>\n",
       "      <td>...</td>\n",
       "      <td>...</td>\n",
       "      <td>...</td>\n",
       "      <td>...</td>\n",
       "      <td>...</td>\n",
       "      <td>...</td>\n",
       "      <td>...</td>\n",
       "    </tr>\n",
       "    <tr>\n",
       "      <th>535527</th>\n",
       "      <td>667.028137</td>\n",
       "      <td>1.109031</td>\n",
       "      <td>11</td>\n",
       "      <td>0</td>\n",
       "      <td>157.071304</td>\n",
       "      <td>1.240662</td>\n",
       "      <td>2.938507</td>\n",
       "      <td>729.059326</td>\n",
       "      <td>2.864907</td>\n",
       "      <td>1.235375</td>\n",
       "      <td>...</td>\n",
       "      <td>0.315239</td>\n",
       "      <td>1.585665</td>\n",
       "      <td>6.828758</td>\n",
       "      <td>27.807114</td>\n",
       "      <td>-0.200469</td>\n",
       "      <td>-1.394060</td>\n",
       "      <td>29.178085</td>\n",
       "      <td>0.006265</td>\n",
       "      <td>0.069917</td>\n",
       "      <td>0.0</td>\n",
       "    </tr>\n",
       "    <tr>\n",
       "      <th>535528</th>\n",
       "      <td>419.362488</td>\n",
       "      <td>1.109031</td>\n",
       "      <td>9</td>\n",
       "      <td>3</td>\n",
       "      <td>156.225861</td>\n",
       "      <td>1.433436</td>\n",
       "      <td>1.757243</td>\n",
       "      <td>543.777222</td>\n",
       "      <td>2.527981</td>\n",
       "      <td>0.043883</td>\n",
       "      <td>...</td>\n",
       "      <td>0.575097</td>\n",
       "      <td>2.420889</td>\n",
       "      <td>15.599944</td>\n",
       "      <td>76.274765</td>\n",
       "      <td>2.903633</td>\n",
       "      <td>-1.856060</td>\n",
       "      <td>697.902283</td>\n",
       "      <td>0.027318</td>\n",
       "      <td>0.135313</td>\n",
       "      <td>0.0</td>\n",
       "    </tr>\n",
       "    <tr>\n",
       "      <th>535529</th>\n",
       "      <td>607.648499</td>\n",
       "      <td>1.189336</td>\n",
       "      <td>9</td>\n",
       "      <td>1</td>\n",
       "      <td>263.931030</td>\n",
       "      <td>1.292060</td>\n",
       "      <td>-2.004730</td>\n",
       "      <td>797.593994</td>\n",
       "      <td>2.442989</td>\n",
       "      <td>0.616640</td>\n",
       "      <td>...</td>\n",
       "      <td>1.081903</td>\n",
       "      <td>1.396448</td>\n",
       "      <td>18.860130</td>\n",
       "      <td>143.125443</td>\n",
       "      <td>1.419641</td>\n",
       "      <td>0.369972</td>\n",
       "      <td>313.828522</td>\n",
       "      <td>0.019559</td>\n",
       "      <td>0.061828</td>\n",
       "      <td>0.0</td>\n",
       "    </tr>\n",
       "    <tr>\n",
       "      <th>535530</th>\n",
       "      <td>435.928528</td>\n",
       "      <td>1.266521</td>\n",
       "      <td>10</td>\n",
       "      <td>3</td>\n",
       "      <td>185.856598</td>\n",
       "      <td>-2.017686</td>\n",
       "      <td>-2.084546</td>\n",
       "      <td>834.221619</td>\n",
       "      <td>2.354301</td>\n",
       "      <td>0.451738</td>\n",
       "      <td>...</td>\n",
       "      <td>1.524903</td>\n",
       "      <td>1.770393</td>\n",
       "      <td>8.116883</td>\n",
       "      <td>44.363911</td>\n",
       "      <td>-1.131178</td>\n",
       "      <td>2.052008</td>\n",
       "      <td>76.338470</td>\n",
       "      <td>0.010020</td>\n",
       "      <td>0.319553</td>\n",
       "      <td>0.0</td>\n",
       "    </tr>\n",
       "    <tr>\n",
       "      <th>535531</th>\n",
       "      <td>640.478699</td>\n",
       "      <td>0.012480</td>\n",
       "      <td>8</td>\n",
       "      <td>1</td>\n",
       "      <td>113.113647</td>\n",
       "      <td>3.460736</td>\n",
       "      <td>2.748201</td>\n",
       "      <td>1912.972656</td>\n",
       "      <td>3.223667</td>\n",
       "      <td>0.923350</td>\n",
       "      <td>...</td>\n",
       "      <td>2.842847</td>\n",
       "      <td>2.405670</td>\n",
       "      <td>11.715548</td>\n",
       "      <td>69.232140</td>\n",
       "      <td>-0.504456</td>\n",
       "      <td>-0.815683</td>\n",
       "      <td>79.101883</td>\n",
       "      <td>0.003234</td>\n",
       "      <td>0.840745</td>\n",
       "      <td>0.0</td>\n",
       "    </tr>\n",
       "  </tbody>\n",
       "</table>\n",
       "<p>535532 rows × 46 columns</p>\n",
       "</div>"
      ],
      "text/plain": [
       "               mbb    weight  njets  nbjets        ptbb     etabb     phibb  \\\n",
       "0       128.748718  1.266521      7       2  135.384552 -0.805419 -0.574222   \n",
       "1       323.834320  1.221307      8       4   78.824593 -1.744408 -0.241483   \n",
       "2       288.848236  0.858359      4       3   82.293976  1.627124  1.730240   \n",
       "3       107.835846  0.050859      4       3   17.217613 -3.646276 -2.009611   \n",
       "4       248.304901  0.958807      7       3   28.405352  1.845880 -0.232091   \n",
       "...            ...       ...    ...     ...         ...       ...       ...   \n",
       "535527  667.028137  1.109031     11       0  157.071304  1.240662  2.938507   \n",
       "535528  419.362488  1.109031      9       3  156.225861  1.433436  1.757243   \n",
       "535529  607.648499  1.189336      9       1  263.931030  1.292060 -2.004730   \n",
       "535530  435.928528  1.266521     10       3  185.856598 -2.017686 -2.084546   \n",
       "535531  640.478699  0.012480      8       1  113.113647  3.460736  2.748201   \n",
       "\n",
       "                ebb      dRbb    dEtabb  ...    dEta23    dPhi23        mj4  \\\n",
       "0        222.708755  1.975177  0.907259  ...  2.923688  2.859488   5.701911   \n",
       "1        398.609894  2.956917  1.084536  ...  1.669306  0.536129   5.549069   \n",
       "2        361.573914  2.707124  0.015462  ...  0.954234  1.812456   4.562911   \n",
       "3        347.376099  2.877990  0.090561  ...  3.567277  2.119354   3.452726   \n",
       "4        264.869232  3.197687  1.355985  ...  1.064546  0.832365  10.167414   \n",
       "...             ...       ...       ...  ...       ...       ...        ...   \n",
       "535527   729.059326  2.864907  1.235375  ...  0.315239  1.585665   6.828758   \n",
       "535528   543.777222  2.527981  0.043883  ...  0.575097  2.420889  15.599944   \n",
       "535529   797.593994  2.442989  0.616640  ...  1.081903  1.396448  18.860130   \n",
       "535530   834.221619  2.354301  0.451738  ...  1.524903  1.770393   8.116883   \n",
       "535531  1912.972656  3.223667  0.923350  ...  2.842847  2.405670  11.715548   \n",
       "\n",
       "              ptj4     etaj4     phij4         ej4    btagj4  qglikelihoodj4  \\\n",
       "0        29.570999  0.633291  2.527016   36.154144  0.750850        0.563677   \n",
       "1        23.957195 -4.069767  2.107588  701.493103  0.054843        0.040889   \n",
       "2        28.454098  1.619449 -1.027924   74.807343  0.728906        0.884353   \n",
       "3        16.632441 -0.966053 -1.661778   25.253466  0.046178       -1.000000   \n",
       "4        50.971561  1.470771 -2.602962  117.226265  0.663049        0.088564   \n",
       "...            ...       ...       ...         ...       ...             ...   \n",
       "535527   27.807114 -0.200469 -1.394060   29.178085  0.006265        0.069917   \n",
       "535528   76.274765  2.903633 -1.856060  697.902283  0.027318        0.135313   \n",
       "535529  143.125443  1.419641  0.369972  313.828522  0.019559        0.061828   \n",
       "535530   44.363911 -1.131178  2.052008   76.338470  0.010020        0.319553   \n",
       "535531   69.232140 -0.504456 -0.815683   79.101883  0.003234        0.840745   \n",
       "\n",
       "        label  \n",
       "0         1.0  \n",
       "1         1.0  \n",
       "2         1.0  \n",
       "3         1.0  \n",
       "4         1.0  \n",
       "...       ...  \n",
       "535527    0.0  \n",
       "535528    0.0  \n",
       "535529    0.0  \n",
       "535530    0.0  \n",
       "535531    0.0  \n",
       "\n",
       "[535532 rows x 46 columns]"
      ]
     },
     "execution_count": 6,
     "metadata": {},
     "output_type": "execute_result"
    }
   ],
   "source": [
    "dataset_df = pd.concat([signal_df,background_df], ignore_index=True)\n",
    "dataset_df"
   ]
  },
  {
   "cell_type": "code",
   "execution_count": 7,
   "id": "accepting-dealing",
   "metadata": {},
   "outputs": [
    {
     "data": {
      "text/plain": [
       "1.0    398263\n",
       "0.0    137269\n",
       "Name: label, dtype: int64"
      ]
     },
     "execution_count": 7,
     "metadata": {},
     "output_type": "execute_result"
    }
   ],
   "source": [
    "dataset_df['label'].value_counts()"
   ]
  },
  {
   "cell_type": "markdown",
   "id": "labeled-documentary",
   "metadata": {},
   "source": [
    "## Explore dataset"
   ]
  },
  {
   "cell_type": "code",
   "execution_count": null,
   "id": "checked-constraint",
   "metadata": {},
   "outputs": [],
   "source": [
    "parameter = ['mbb', 'weight', 'njets', 'nbjets', 'ptbb', 'etabb', 'phibb', 'ebb',\n",
    "       'dRbb', 'dEtabb', 'dPhibb', 'mj1', 'ptj1', 'etaj1', 'phij1', 'ej1',\n",
    "       'btagj1', 'qglikelihoodj1', 'mj2', 'ptj2', 'etaj2', 'phij2', 'ej2',\n",
    "       'btagj2', 'qglikelihoodj2', 'mj3', 'ptj3', 'etaj3', 'phij3', 'ej3',\n",
    "       'btagj3', 'qglikelihoodj3', 'dR13', 'dEta13', 'dPhi13', 'dR23',\n",
    "       'dEta23', 'dPhi23', 'mj4', 'ptj4', 'etaj4', 'phij4', 'ej4', 'btagj4',\n",
    "       'qglikelihoodj4', 'label']"
   ]
  },
  {
   "cell_type": "markdown",
   "id": "pursuant-probability",
   "metadata": {},
   "source": [
    "### histrogram density "
   ]
  },
  {
   "cell_type": "code",
   "execution_count": null,
   "id": "novel-migration",
   "metadata": {},
   "outputs": [],
   "source": [
    "sns.set_style('whitegrid')\n",
    "fig, axs = plt.subplots(nrows=7, ncols=7, figsize=(50,50))\n",
    "\n",
    "palette ={0.0: \"C0\", 1.0: \"C1\"}\n",
    "\n",
    "for param, ax in zip(parameter, axs.ravel()):\n",
    "\n",
    "    sns.histplot(ax=ax,  data=dataset_df, x=param, weights='weight', bins=100, common_bins=False, stat='density', common_norm=False, hue='label', element='step',fill=False, palette=palette)\n",
    "    ax.set_title(param)\n",
    "    #ax.set_ylabel('density')\n",
    "    #ax.legend()\n",
    "    \n",
    "fig.tight_layout()\n",
    "plt.savefig('histrogram_density.png')"
   ]
  },
  {
   "cell_type": "code",
   "execution_count": null,
   "id": "intimate-generator",
   "metadata": {
    "scrolled": false
   },
   "outputs": [],
   "source": [
    "sns.set_style('whitegrid')\n",
    "fig, axs = plt.subplots(nrows=7, ncols=7, figsize=(50,50))\n",
    "\n",
    "palette ={0.0: \"C0\", 1.0: \"C1\"}\n",
    "\n",
    "for param, ax in zip(parameter, axs.ravel()):\n",
    "\n",
    "    sns.histplot(ax=ax,  data=dataset_df, x=param, weights='weight', bins=100, common_bins=False, stat='probability', common_norm=False, hue='label', element='step',fill=False, palette=palette)\n",
    "    ax.set_title(param)\n",
    "    #ax.set_ylabel('density')\n",
    "    #ax.legend()\n",
    "    \n",
    "fig.tight_layout()\n",
    "plt.savefig('histrogram_probability.png')"
   ]
  },
  {
   "cell_type": "markdown",
   "id": "cooperative-identification",
   "metadata": {},
   "source": [
    "### histrogram yscale=log density"
   ]
  },
  {
   "cell_type": "code",
   "execution_count": null,
   "id": "brazilian-money",
   "metadata": {},
   "outputs": [],
   "source": [
    "fig1, axs1 = plt.subplots(nrows=7, ncols=7, figsize=(50,50))\n",
    "\n",
    "for param, ax in zip(parameter, axs1.ravel()):\n",
    "    \n",
    "    ax.hist([signal_df[param], background_df[param]], bins=100, density=True, weights=[signal_df['weight'],background_df['weight']], histtype='step', label=['signal','background'])\n",
    "    ax.set_title(param)\n",
    "    ax.set_yscale('log')\n",
    "    ax.set_ylabel('density')\n",
    "    ax.legend()\n",
    "    \n",
    "fig.tight_layout()\n",
    "plt.savefig('histrogram_yscale=log_density.png')"
   ]
  },
  {
   "cell_type": "markdown",
   "id": "finished-rochester",
   "metadata": {},
   "source": [
    "### boxplot of signal (400k events) & background (100k events)"
   ]
  },
  {
   "cell_type": "code",
   "execution_count": null,
   "id": "stable-diesel",
   "metadata": {},
   "outputs": [],
   "source": [
    "sns.set()\n",
    "\n",
    "fig, axs = plt.subplots(nrows=7, ncols=7, figsize=(50,50))\n",
    "\n",
    "for param, ax in zip(parameter, axs.ravel()):\n",
    "    \n",
    "    sns.boxplot(ax=ax, x='label', y=param, data=dataset_df)\n",
    "\n",
    "    ax.set_title(param)\n",
    "\n",
    "#plt.savefig('boxplots.png')"
   ]
  },
  {
   "cell_type": "code",
   "execution_count": null,
   "id": "intensive-passage",
   "metadata": {},
   "outputs": [],
   "source": [
    "dataset_df.columns"
   ]
  },
  {
   "cell_type": "markdown",
   "id": "wanted-arbitration",
   "metadata": {},
   "source": [
    "## Scaling "
   ]
  },
  {
   "cell_type": "code",
   "execution_count": 8,
   "id": "diagnostic-bottom",
   "metadata": {},
   "outputs": [],
   "source": [
    "from sklearn.preprocessing import StandardScaler\n",
    "from sklearn.preprocessing import MinMaxScaler"
   ]
  },
  {
   "cell_type": "markdown",
   "id": "assumed-enterprise",
   "metadata": {},
   "source": [
    "### Standardize "
   ]
  },
  {
   "cell_type": "code",
   "execution_count": 9,
   "id": "secondary-response",
   "metadata": {},
   "outputs": [],
   "source": [
    "scaler = StandardScaler()\n",
    "data_for_scaling = dataset_df.values[:,:-1]\n",
    "dataset_st_np = scaler.fit_transform(data_for_scaling)\n",
    "dataset_st_df = pd.DataFrame(dataset_st_np, columns=['mbb', 'weight', 'njets', 'nbjets', 'ptbb', 'etabb', 'phibb', 'ebb',\n",
    "       'dRbb', 'dEtabb', 'dPhibb', 'mj1', 'ptj1', 'etaj1', 'phij1', 'ej1',\n",
    "       'btagj1', 'qglikelihoodj1', 'mj2', 'ptj2', 'etaj2', 'phij2', 'ej2',\n",
    "       'btagj2', 'qglikelihoodj2', 'mj3', 'ptj3', 'etaj3', 'phij3', 'ej3',\n",
    "       'btagj3', 'qglikelihoodj3', 'dR13', 'dEta13', 'dPhi13', 'dR23',\n",
    "       'dEta23', 'dPhi23', 'mj4', 'ptj4', 'etaj4', 'phij4', 'ej4', 'btagj4',\n",
    "       'qglikelihoodj4'])"
   ]
  },
  {
   "cell_type": "code",
   "execution_count": 10,
   "id": "loving-seeking",
   "metadata": {},
   "outputs": [],
   "source": [
    "dataset_st_df['label'] = dataset_df['label']"
   ]
  },
  {
   "cell_type": "markdown",
   "id": "decreased-handle",
   "metadata": {},
   "source": [
    "### Normalize "
   ]
  },
  {
   "cell_type": "code",
   "execution_count": null,
   "id": "first-officer",
   "metadata": {},
   "outputs": [],
   "source": [
    "scaler1 = MinMaxScaler()\n",
    "data_for_scaling1 = dataset_df.iloc[:,:-1].to_numpy()\n",
    "dataset_mm_np = scaler.fit_transform(data_for_scaling)\n",
    "dataset_mm_df = pd.DataFrame(dataset_mm_np, columns=['mbb', 'weight', 'njets', 'nbjets', 'ptbb', 'etabb', 'phibb', 'ebb',\n",
    "       'dRbb', 'dEtabb', 'dPhibb', 'mj1', 'ptj1', 'etaj1', 'phij1', 'ej1',\n",
    "       'btagj1', 'qglikelihoodj1', 'mj2', 'ptj2', 'etaj2', 'phij2', 'ej2',\n",
    "       'btagj2', 'qglikelihoodj2', 'mj3', 'ptj3', 'etaj3', 'phij3', 'ej3',\n",
    "       'btagj3', 'qglikelihoodj3', 'dR13', 'dEta13', 'dPhi13', 'dR23',\n",
    "       'dEta23', 'dPhi23', 'mj4', 'ptj4', 'etaj4', 'phij4', 'ej4', 'btagj4',\n",
    "       'qglikelihoodj4'])"
   ]
  },
  {
   "cell_type": "code",
   "execution_count": null,
   "id": "norwegian-flash",
   "metadata": {},
   "outputs": [],
   "source": [
    "dataset_mm_df['label']=dataset_df['label']"
   ]
  },
  {
   "cell_type": "markdown",
   "id": "verified-spectacular",
   "metadata": {},
   "source": [
    "# input columns"
   ]
  },
  {
   "cell_type": "code",
   "execution_count": 11,
   "id": "qualified-fossil",
   "metadata": {},
   "outputs": [],
   "source": [
    "#input_columns = ['ptbb','ebb','mbb','etabb','phibb','ptj1','ej1','etaj1','btagj1','ptj2','ej2','etaj2','btagj2']\n",
    "input_columns = ['mbb','nbjets','dEtabb','ej1','ej2','btagj2','qglikelihoodj2','mj3','btagj3','mj4']"
   ]
  },
  {
   "cell_type": "markdown",
   "id": "accomplished-fundamental",
   "metadata": {},
   "source": [
    "### Splitting data"
   ]
  },
  {
   "cell_type": "code",
   "execution_count": 12,
   "id": "affiliated-adoption",
   "metadata": {},
   "outputs": [],
   "source": [
    "from sklearn.model_selection import train_test_split"
   ]
  },
  {
   "cell_type": "code",
   "execution_count": 13,
   "id": "premier-director",
   "metadata": {},
   "outputs": [],
   "source": [
    "def TrainTestSplit(dataset):\n",
    "    return train_test_split(dataset, test_size=0.3, random_state=42, stratify=dataset['label'].to_numpy())"
   ]
  },
  {
   "cell_type": "code",
   "execution_count": 14,
   "id": "successful-county",
   "metadata": {},
   "outputs": [],
   "source": [
    "train_df, test_df = TrainTestSplit(dataset_st_df)"
   ]
  },
  {
   "cell_type": "code",
   "execution_count": 15,
   "id": "immune-paint",
   "metadata": {},
   "outputs": [],
   "source": [
    "X_test = test_df[input_columns]\n",
    "y_test = test_df['label']"
   ]
  },
  {
   "cell_type": "code",
   "execution_count": 16,
   "id": "cubic-declaration",
   "metadata": {},
   "outputs": [
    {
     "data": {
      "text/plain": [
       "1.0    278784\n",
       "0.0     96088\n",
       "Name: label, dtype: int64"
      ]
     },
     "execution_count": 16,
     "metadata": {},
     "output_type": "execute_result"
    }
   ],
   "source": [
    "train_df['label'].value_counts()"
   ]
  },
  {
   "cell_type": "code",
   "execution_count": 17,
   "id": "imperial-savannah",
   "metadata": {},
   "outputs": [],
   "source": [
    "class_1, class_0 = train_df.label.value_counts()\n",
    "c1 = train_df[train_df['label']==1]\n",
    "c0 = train_df[train_df['label']==0]\n",
    "c1_sam = c1.sample(class_0)\n",
    "undersampled_train = pd.concat([c0,c1_sam], axis=0)\n",
    "X_train = undersampled_train[input_columns]\n",
    "y_train = undersampled_train['label']"
   ]
  },
  {
   "cell_type": "code",
   "execution_count": 18,
   "id": "handmade-sponsorship",
   "metadata": {},
   "outputs": [],
   "source": [
    "from keras.models import Sequential\n",
    "from keras.layers import Dense\n",
    "from keras.callbacks import EarlyStopping\n",
    "from keras.layers import BatchNormalization"
   ]
  },
  {
   "cell_type": "code",
   "execution_count": 19,
   "id": "collaborative-portal",
   "metadata": {},
   "outputs": [
    {
     "name": "stdout",
     "output_type": "stream",
     "text": [
      "Model: \"sequential\"\n",
      "_________________________________________________________________\n",
      "Layer (type)                 Output Shape              Param #   \n",
      "=================================================================\n",
      "dense (Dense)                (None, 100)               1100      \n",
      "_________________________________________________________________\n",
      "batch_normalization (BatchNo (None, 100)               400       \n",
      "_________________________________________________________________\n",
      "dense_1 (Dense)              (None, 50)                5050      \n",
      "_________________________________________________________________\n",
      "batch_normalization_1 (Batch (None, 50)                200       \n",
      "_________________________________________________________________\n",
      "dense_2 (Dense)              (None, 1)                 51        \n",
      "=================================================================\n",
      "Total params: 6,801\n",
      "Trainable params: 6,501\n",
      "Non-trainable params: 300\n",
      "_________________________________________________________________\n"
     ]
    }
   ],
   "source": [
    "# Instantiate a sequential model\n",
    "model = Sequential()\n",
    "\n",
    "# Instantiate an early stopping callback\n",
    "early_stopping = EarlyStopping(monitor='loss', patience=3)\n",
    "\n",
    "# Add input and hidden layer\n",
    "model.add(Dense(100, activation='relu', input_shape=(10,)))\n",
    "model.add(BatchNormalization())\n",
    "model.add(Dense(50, activation='relu'))\n",
    "model.add(BatchNormalization())\n",
    "\n",
    "# Add output layer, use sigmoid\n",
    "model.add(Dense(1, activation='sigmoid'))\n",
    "\n",
    "#Compile\n",
    "model.compile(optimizer='sgd', \n",
    "              loss='binary_crossentropy', \n",
    "              metrics=['accuracy','AUC']\n",
    "             )\n",
    "model.summary()"
   ]
  },
  {
   "cell_type": "code",
   "execution_count": 20,
   "id": "ignored-hours",
   "metadata": {},
   "outputs": [
    {
     "data": {
      "text/html": [
       "<div>\n",
       "<style scoped>\n",
       "    .dataframe tbody tr th:only-of-type {\n",
       "        vertical-align: middle;\n",
       "    }\n",
       "\n",
       "    .dataframe tbody tr th {\n",
       "        vertical-align: top;\n",
       "    }\n",
       "\n",
       "    .dataframe thead th {\n",
       "        text-align: right;\n",
       "    }\n",
       "</style>\n",
       "<table border=\"1\" class=\"dataframe\">\n",
       "  <thead>\n",
       "    <tr style=\"text-align: right;\">\n",
       "      <th></th>\n",
       "      <th>mbb</th>\n",
       "      <th>weight</th>\n",
       "      <th>njets</th>\n",
       "      <th>nbjets</th>\n",
       "      <th>ptbb</th>\n",
       "      <th>etabb</th>\n",
       "      <th>phibb</th>\n",
       "      <th>ebb</th>\n",
       "      <th>dRbb</th>\n",
       "      <th>dEtabb</th>\n",
       "      <th>...</th>\n",
       "      <th>dEta23</th>\n",
       "      <th>dPhi23</th>\n",
       "      <th>mj4</th>\n",
       "      <th>ptj4</th>\n",
       "      <th>etaj4</th>\n",
       "      <th>phij4</th>\n",
       "      <th>ej4</th>\n",
       "      <th>btagj4</th>\n",
       "      <th>qglikelihoodj4</th>\n",
       "      <th>label</th>\n",
       "    </tr>\n",
       "  </thead>\n",
       "  <tbody>\n",
       "    <tr>\n",
       "      <th>402262</th>\n",
       "      <td>0.716680</td>\n",
       "      <td>0.698025</td>\n",
       "      <td>-0.824846</td>\n",
       "      <td>0.648749</td>\n",
       "      <td>0.775768</td>\n",
       "      <td>1.444042</td>\n",
       "      <td>-0.784538</td>\n",
       "      <td>2.508213</td>\n",
       "      <td>-0.545670</td>\n",
       "      <td>-1.155698</td>\n",
       "      <td>...</td>\n",
       "      <td>-0.357880</td>\n",
       "      <td>-0.972323</td>\n",
       "      <td>5.380040</td>\n",
       "      <td>4.000624</td>\n",
       "      <td>1.014411</td>\n",
       "      <td>0.970396</td>\n",
       "      <td>1.563466</td>\n",
       "      <td>0.868910</td>\n",
       "      <td>1.010645</td>\n",
       "      <td>0.0</td>\n",
       "    </tr>\n",
       "    <tr>\n",
       "      <th>494298</th>\n",
       "      <td>0.763899</td>\n",
       "      <td>0.661539</td>\n",
       "      <td>-0.454698</td>\n",
       "      <td>-1.399934</td>\n",
       "      <td>-0.389484</td>\n",
       "      <td>-1.417407</td>\n",
       "      <td>-1.320024</td>\n",
       "      <td>0.720627</td>\n",
       "      <td>0.546582</td>\n",
       "      <td>0.227391</td>\n",
       "      <td>...</td>\n",
       "      <td>-0.368412</td>\n",
       "      <td>-0.115460</td>\n",
       "      <td>-0.692471</td>\n",
       "      <td>-0.410637</td>\n",
       "      <td>1.383940</td>\n",
       "      <td>-0.970895</td>\n",
       "      <td>0.144576</td>\n",
       "      <td>-0.342941</td>\n",
       "      <td>-1.467537</td>\n",
       "      <td>0.0</td>\n",
       "    </tr>\n",
       "    <tr>\n",
       "      <th>410139</th>\n",
       "      <td>-0.572105</td>\n",
       "      <td>-0.458590</td>\n",
       "      <td>4.727365</td>\n",
       "      <td>-0.375592</td>\n",
       "      <td>-0.702809</td>\n",
       "      <td>-0.224554</td>\n",
       "      <td>0.225253</td>\n",
       "      <td>-0.792168</td>\n",
       "      <td>1.202161</td>\n",
       "      <td>1.895148</td>\n",
       "      <td>...</td>\n",
       "      <td>-0.160866</td>\n",
       "      <td>-0.307422</td>\n",
       "      <td>0.171932</td>\n",
       "      <td>0.077541</td>\n",
       "      <td>-1.150294</td>\n",
       "      <td>-1.378714</td>\n",
       "      <td>0.098751</td>\n",
       "      <td>-0.570783</td>\n",
       "      <td>0.947989</td>\n",
       "      <td>0.0</td>\n",
       "    </tr>\n",
       "    <tr>\n",
       "      <th>508335</th>\n",
       "      <td>0.559129</td>\n",
       "      <td>0.106118</td>\n",
       "      <td>-1.194993</td>\n",
       "      <td>-1.399934</td>\n",
       "      <td>0.602078</td>\n",
       "      <td>-0.231625</td>\n",
       "      <td>1.564188</td>\n",
       "      <td>0.063658</td>\n",
       "      <td>1.080401</td>\n",
       "      <td>0.639941</td>\n",
       "      <td>...</td>\n",
       "      <td>-0.062189</td>\n",
       "      <td>-1.668901</td>\n",
       "      <td>-0.511276</td>\n",
       "      <td>-0.263881</td>\n",
       "      <td>-0.405396</td>\n",
       "      <td>0.421969</td>\n",
       "      <td>-0.542270</td>\n",
       "      <td>-0.577338</td>\n",
       "      <td>0.089104</td>\n",
       "      <td>0.0</td>\n",
       "    </tr>\n",
       "    <tr>\n",
       "      <th>515112</th>\n",
       "      <td>1.155880</td>\n",
       "      <td>-0.573188</td>\n",
       "      <td>-0.454698</td>\n",
       "      <td>-1.399934</td>\n",
       "      <td>0.433439</td>\n",
       "      <td>0.023287</td>\n",
       "      <td>1.296697</td>\n",
       "      <td>0.469255</td>\n",
       "      <td>1.016314</td>\n",
       "      <td>1.552172</td>\n",
       "      <td>...</td>\n",
       "      <td>1.306525</td>\n",
       "      <td>-1.350185</td>\n",
       "      <td>0.702296</td>\n",
       "      <td>0.311518</td>\n",
       "      <td>-1.554847</td>\n",
       "      <td>-1.239571</td>\n",
       "      <td>1.414813</td>\n",
       "      <td>-0.485413</td>\n",
       "      <td>0.058123</td>\n",
       "      <td>0.0</td>\n",
       "    </tr>\n",
       "    <tr>\n",
       "      <th>...</th>\n",
       "      <td>...</td>\n",
       "      <td>...</td>\n",
       "      <td>...</td>\n",
       "      <td>...</td>\n",
       "      <td>...</td>\n",
       "      <td>...</td>\n",
       "      <td>...</td>\n",
       "      <td>...</td>\n",
       "      <td>...</td>\n",
       "      <td>...</td>\n",
       "      <td>...</td>\n",
       "      <td>...</td>\n",
       "      <td>...</td>\n",
       "      <td>...</td>\n",
       "      <td>...</td>\n",
       "      <td>...</td>\n",
       "      <td>...</td>\n",
       "      <td>...</td>\n",
       "      <td>...</td>\n",
       "      <td>...</td>\n",
       "      <td>...</td>\n",
       "    </tr>\n",
       "    <tr>\n",
       "      <th>188019</th>\n",
       "      <td>-0.339206</td>\n",
       "      <td>0.460097</td>\n",
       "      <td>1.025891</td>\n",
       "      <td>0.648749</td>\n",
       "      <td>-0.090579</td>\n",
       "      <td>-0.810011</td>\n",
       "      <td>-1.676234</td>\n",
       "      <td>-0.421328</td>\n",
       "      <td>-0.916278</td>\n",
       "      <td>-1.479836</td>\n",
       "      <td>...</td>\n",
       "      <td>-0.175685</td>\n",
       "      <td>0.660703</td>\n",
       "      <td>0.177623</td>\n",
       "      <td>0.397455</td>\n",
       "      <td>-1.593214</td>\n",
       "      <td>-0.205009</td>\n",
       "      <td>1.705214</td>\n",
       "      <td>-0.491414</td>\n",
       "      <td>0.683737</td>\n",
       "      <td>1.0</td>\n",
       "    </tr>\n",
       "    <tr>\n",
       "      <th>312322</th>\n",
       "      <td>-0.276589</td>\n",
       "      <td>0.739334</td>\n",
       "      <td>1.766186</td>\n",
       "      <td>1.673091</td>\n",
       "      <td>0.398938</td>\n",
       "      <td>-0.293320</td>\n",
       "      <td>0.541619</td>\n",
       "      <td>-0.506418</td>\n",
       "      <td>-1.209883</td>\n",
       "      <td>0.490055</td>\n",
       "      <td>...</td>\n",
       "      <td>-1.477818</td>\n",
       "      <td>0.263603</td>\n",
       "      <td>-0.500375</td>\n",
       "      <td>0.009094</td>\n",
       "      <td>1.206700</td>\n",
       "      <td>-1.483305</td>\n",
       "      <td>0.150092</td>\n",
       "      <td>2.435599</td>\n",
       "      <td>-1.467537</td>\n",
       "      <td>1.0</td>\n",
       "    </tr>\n",
       "    <tr>\n",
       "      <th>44354</th>\n",
       "      <td>-0.159077</td>\n",
       "      <td>-2.689553</td>\n",
       "      <td>0.285596</td>\n",
       "      <td>-0.375592</td>\n",
       "      <td>-0.381982</td>\n",
       "      <td>-0.380160</td>\n",
       "      <td>0.223393</td>\n",
       "      <td>-0.479883</td>\n",
       "      <td>0.637067</td>\n",
       "      <td>0.192630</td>\n",
       "      <td>...</td>\n",
       "      <td>-0.444766</td>\n",
       "      <td>-1.332159</td>\n",
       "      <td>-0.316327</td>\n",
       "      <td>-0.476968</td>\n",
       "      <td>-0.612151</td>\n",
       "      <td>0.743856</td>\n",
       "      <td>-0.523580</td>\n",
       "      <td>-0.543182</td>\n",
       "      <td>0.510686</td>\n",
       "      <td>1.0</td>\n",
       "    </tr>\n",
       "    <tr>\n",
       "      <th>52599</th>\n",
       "      <td>-0.286936</td>\n",
       "      <td>0.739334</td>\n",
       "      <td>1.766186</td>\n",
       "      <td>-0.375592</td>\n",
       "      <td>-0.294074</td>\n",
       "      <td>-0.708109</td>\n",
       "      <td>-0.875712</td>\n",
       "      <td>-0.498075</td>\n",
       "      <td>0.167292</td>\n",
       "      <td>1.328178</td>\n",
       "      <td>...</td>\n",
       "      <td>-0.383433</td>\n",
       "      <td>0.752433</td>\n",
       "      <td>-0.575083</td>\n",
       "      <td>-0.587649</td>\n",
       "      <td>1.801069</td>\n",
       "      <td>0.123115</td>\n",
       "      <td>0.911997</td>\n",
       "      <td>-0.363624</td>\n",
       "      <td>0.237098</td>\n",
       "      <td>1.0</td>\n",
       "    </tr>\n",
       "    <tr>\n",
       "      <th>78505</th>\n",
       "      <td>0.048284</td>\n",
       "      <td>-0.392469</td>\n",
       "      <td>-1.194993</td>\n",
       "      <td>-0.375592</td>\n",
       "      <td>1.675911</td>\n",
       "      <td>1.018904</td>\n",
       "      <td>-0.497561</td>\n",
       "      <td>1.065824</td>\n",
       "      <td>-1.976216</td>\n",
       "      <td>-0.337164</td>\n",
       "      <td>...</td>\n",
       "      <td>-1.063495</td>\n",
       "      <td>0.275872</td>\n",
       "      <td>0.434968</td>\n",
       "      <td>0.098052</td>\n",
       "      <td>0.965139</td>\n",
       "      <td>1.023548</td>\n",
       "      <td>-0.140905</td>\n",
       "      <td>-0.482749</td>\n",
       "      <td>1.036638</td>\n",
       "      <td>1.0</td>\n",
       "    </tr>\n",
       "  </tbody>\n",
       "</table>\n",
       "<p>192176 rows × 46 columns</p>\n",
       "</div>"
      ],
      "text/plain": [
       "             mbb    weight     njets    nbjets      ptbb     etabb     phibb  \\\n",
       "402262  0.716680  0.698025 -0.824846  0.648749  0.775768  1.444042 -0.784538   \n",
       "494298  0.763899  0.661539 -0.454698 -1.399934 -0.389484 -1.417407 -1.320024   \n",
       "410139 -0.572105 -0.458590  4.727365 -0.375592 -0.702809 -0.224554  0.225253   \n",
       "508335  0.559129  0.106118 -1.194993 -1.399934  0.602078 -0.231625  1.564188   \n",
       "515112  1.155880 -0.573188 -0.454698 -1.399934  0.433439  0.023287  1.296697   \n",
       "...          ...       ...       ...       ...       ...       ...       ...   \n",
       "188019 -0.339206  0.460097  1.025891  0.648749 -0.090579 -0.810011 -1.676234   \n",
       "312322 -0.276589  0.739334  1.766186  1.673091  0.398938 -0.293320  0.541619   \n",
       "44354  -0.159077 -2.689553  0.285596 -0.375592 -0.381982 -0.380160  0.223393   \n",
       "52599  -0.286936  0.739334  1.766186 -0.375592 -0.294074 -0.708109 -0.875712   \n",
       "78505   0.048284 -0.392469 -1.194993 -0.375592  1.675911  1.018904 -0.497561   \n",
       "\n",
       "             ebb      dRbb    dEtabb  ...    dEta23    dPhi23       mj4  \\\n",
       "402262  2.508213 -0.545670 -1.155698  ... -0.357880 -0.972323  5.380040   \n",
       "494298  0.720627  0.546582  0.227391  ... -0.368412 -0.115460 -0.692471   \n",
       "410139 -0.792168  1.202161  1.895148  ... -0.160866 -0.307422  0.171932   \n",
       "508335  0.063658  1.080401  0.639941  ... -0.062189 -1.668901 -0.511276   \n",
       "515112  0.469255  1.016314  1.552172  ...  1.306525 -1.350185  0.702296   \n",
       "...          ...       ...       ...  ...       ...       ...       ...   \n",
       "188019 -0.421328 -0.916278 -1.479836  ... -0.175685  0.660703  0.177623   \n",
       "312322 -0.506418 -1.209883  0.490055  ... -1.477818  0.263603 -0.500375   \n",
       "44354  -0.479883  0.637067  0.192630  ... -0.444766 -1.332159 -0.316327   \n",
       "52599  -0.498075  0.167292  1.328178  ... -0.383433  0.752433 -0.575083   \n",
       "78505   1.065824 -1.976216 -0.337164  ... -1.063495  0.275872  0.434968   \n",
       "\n",
       "            ptj4     etaj4     phij4       ej4    btagj4  qglikelihoodj4  \\\n",
       "402262  4.000624  1.014411  0.970396  1.563466  0.868910        1.010645   \n",
       "494298 -0.410637  1.383940 -0.970895  0.144576 -0.342941       -1.467537   \n",
       "410139  0.077541 -1.150294 -1.378714  0.098751 -0.570783        0.947989   \n",
       "508335 -0.263881 -0.405396  0.421969 -0.542270 -0.577338        0.089104   \n",
       "515112  0.311518 -1.554847 -1.239571  1.414813 -0.485413        0.058123   \n",
       "...          ...       ...       ...       ...       ...             ...   \n",
       "188019  0.397455 -1.593214 -0.205009  1.705214 -0.491414        0.683737   \n",
       "312322  0.009094  1.206700 -1.483305  0.150092  2.435599       -1.467537   \n",
       "44354  -0.476968 -0.612151  0.743856 -0.523580 -0.543182        0.510686   \n",
       "52599  -0.587649  1.801069  0.123115  0.911997 -0.363624        0.237098   \n",
       "78505   0.098052  0.965139  1.023548 -0.140905 -0.482749        1.036638   \n",
       "\n",
       "        label  \n",
       "402262    0.0  \n",
       "494298    0.0  \n",
       "410139    0.0  \n",
       "508335    0.0  \n",
       "515112    0.0  \n",
       "...       ...  \n",
       "188019    1.0  \n",
       "312322    1.0  \n",
       "44354     1.0  \n",
       "52599     1.0  \n",
       "78505     1.0  \n",
       "\n",
       "[192176 rows x 46 columns]"
      ]
     },
     "execution_count": 20,
     "metadata": {},
     "output_type": "execute_result"
    }
   ],
   "source": [
    "undersampled_train"
   ]
  },
  {
   "cell_type": "code",
   "execution_count": 22,
   "id": "peaceful-russell",
   "metadata": {
    "scrolled": true
   },
   "outputs": [
    {
     "name": "stdout",
     "output_type": "stream",
     "text": [
      "Epoch 1/10\n",
      "6006/6006 - 8s - loss: 0.3408 - accuracy: 0.8518 - auc: 0.9284 - val_loss: 0.3325 - val_accuracy: 0.8523 - val_auc: 0.9386\n",
      "Epoch 2/10\n",
      "6006/6006 - 11s - loss: 0.3307 - accuracy: 0.8566 - auc: 0.9327 - val_loss: 0.3230 - val_accuracy: 0.8583 - val_auc: 0.9394\n",
      "Epoch 3/10\n",
      "6006/6006 - 11s - loss: 0.3262 - accuracy: 0.8594 - auc: 0.9346 - val_loss: 0.3100 - val_accuracy: 0.8641 - val_auc: 0.9410\n",
      "Epoch 4/10\n",
      "6006/6006 - 9s - loss: 0.3235 - accuracy: 0.8606 - auc: 0.9356 - val_loss: 0.3054 - val_accuracy: 0.8666 - val_auc: 0.9408\n",
      "Epoch 5/10\n",
      "6006/6006 - 10s - loss: 0.3219 - accuracy: 0.8614 - auc: 0.9363 - val_loss: 0.3168 - val_accuracy: 0.8645 - val_auc: 0.9419\n",
      "Epoch 6/10\n",
      "6006/6006 - 12s - loss: 0.3206 - accuracy: 0.8618 - auc: 0.9369 - val_loss: 0.3002 - val_accuracy: 0.8685 - val_auc: 0.9419\n",
      "Epoch 7/10\n",
      "6006/6006 - 12s - loss: 0.3184 - accuracy: 0.8637 - auc: 0.9377 - val_loss: 0.3025 - val_accuracy: 0.8673 - val_auc: 0.9425\n",
      "Epoch 8/10\n",
      "6006/6006 - 10s - loss: 0.3181 - accuracy: 0.8634 - auc: 0.9379 - val_loss: 0.3047 - val_accuracy: 0.8648 - val_auc: 0.9421\n",
      "Epoch 9/10\n",
      "6006/6006 - 8s - loss: 0.3174 - accuracy: 0.8641 - auc: 0.9381 - val_loss: 0.3066 - val_accuracy: 0.8659 - val_auc: 0.9432\n",
      "Epoch 10/10\n",
      "6006/6006 - 8s - loss: 0.3162 - accuracy: 0.8643 - auc: 0.9386 - val_loss: 0.3100 - val_accuracy: 0.8619 - val_auc: 0.9434\n"
     ]
    }
   ],
   "source": [
    "history = model.fit(X_train, y_train, validation_data=(X_test, y_test), epochs=10, callbacks=[early_stopping], batch_size=32, verbose=2)"
   ]
  },
  {
   "cell_type": "code",
   "execution_count": 24,
   "id": "constitutional-shopping",
   "metadata": {},
   "outputs": [],
   "source": [
    "plt.rcParams.update({'font.size': 16})"
   ]
  },
  {
   "cell_type": "code",
   "execution_count": 25,
   "id": "married-thumbnail",
   "metadata": {
    "scrolled": true
   },
   "outputs": [
    {
     "data": {
      "image/png": "[encoded data removed]",
      "text/plain": [
       "<Figure size 432x288 with 1 Axes>"
      ]
     },
     "metadata": {},
     "output_type": "display_data"
    }
   ],
   "source": [
    "sns.set_style('whitegrid')\n",
    "plt.figure()\n",
    "plt.plot(history.history['loss'])\n",
    "plt.plot(history.history['val_loss'])\n",
    "plt.ylim(0,0.5)\n",
    "plt.title('loss learning curve')\n",
    "plt.ylabel('loss')\n",
    "plt.xlabel('Epoch')\n",
    "plt.legend(['Train', 'Test'])\n",
    "plt.show()"
   ]
  },
  {
   "cell_type": "code",
   "execution_count": 26,
   "id": "assumed-willow",
   "metadata": {},
   "outputs": [
    {
     "data": {
      "image/png": "[encoded data removed]",
      "text/plain": [
       "<Figure size 432x288 with 1 Axes>"
      ]
     },
     "metadata": {},
     "output_type": "display_data"
    }
   ],
   "source": [
    "sns.set_style('whitegrid')\n",
    "plt.figure()\n",
    "plt.plot(history.history['accuracy'])\n",
    "plt.plot(history.history['val_accuracy'])\n",
    "plt.ylim(0.7,1)\n",
    "plt.title('accuracy learning curve')\n",
    "plt.ylabel('accuracy')\n",
    "plt.xlabel('Epoch')\n",
    "plt.legend(['Train', 'Test'])\n",
    "plt.show()"
   ]
  },
  {
   "cell_type": "code",
   "execution_count": 27,
   "id": "damaged-continent",
   "metadata": {
    "scrolled": true
   },
   "outputs": [
    {
     "data": {
      "image/png": "[encoded data removed]",
      "text/plain": [
       "<Figure size 432x288 with 1 Axes>"
      ]
     },
     "metadata": {},
     "output_type": "display_data"
    }
   ],
   "source": [
    "sns.set_style('whitegrid')\n",
    "plt.figure()\n",
    "plt.plot(history.history['auc'])\n",
    "plt.plot(history.history['val_auc'])\n",
    "plt.ylim(0.7,1)\n",
    "plt.title('auc learning curve')\n",
    "plt.ylabel('auc')\n",
    "plt.xlabel('Epoch')\n",
    "plt.legend(['Train', 'Test'])\n",
    "plt.show()"
   ]
  },
  {
   "cell_type": "markdown",
   "id": "useful-rebel",
   "metadata": {},
   "source": [
    "# Keras Classifier"
   ]
  },
  {
   "cell_type": "code",
   "execution_count": 28,
   "id": "entitled-message",
   "metadata": {},
   "outputs": [],
   "source": [
    "from keras.wrappers.scikit_learn import KerasClassifier"
   ]
  },
  {
   "cell_type": "code",
   "execution_count": 29,
   "id": "opening-fever",
   "metadata": {},
   "outputs": [],
   "source": [
    "def create_model(nn1=100, nn2=50, activation='relu', optimizer='sgd'):\n",
    "    # Create model\n",
    "    model = Sequential()\n",
    "    early_stopping = EarlyStopping(monitor='loss', patience=3)\n",
    "    model.add(Dense(nn1, activation=activation, input_shape=(10,)))\n",
    "    model.add(BatchNormalization())\n",
    "    model.add(Dense(nn2, activation=activation))\n",
    "    model.add(BatchNormalization())\n",
    "    model.add(Dense(1, activation='sigmoid'))\n",
    "    # Compile model\n",
    "    model.compile(\n",
    "        optimizer=optimizer,\n",
    "        loss='binary_crossentropy',\n",
    "        metrics=['accuracy','AUC']\n",
    "    )\n",
    "    return model"
   ]
  },
  {
   "cell_type": "code",
   "execution_count": 30,
   "id": "noted-shark",
   "metadata": {},
   "outputs": [
    {
     "data": {
      "text/plain": [
       "0.0    96088\n",
       "1.0    96088\n",
       "Name: label, dtype: int64"
      ]
     },
     "execution_count": 30,
     "metadata": {},
     "output_type": "execute_result"
    }
   ],
   "source": [
    "y_train.value_counts()"
   ]
  },
  {
   "cell_type": "code",
   "execution_count": 31,
   "id": "express-wright",
   "metadata": {},
   "outputs": [
    {
     "data": {
      "text/plain": [
       "1.0    119479\n",
       "0.0     41181\n",
       "Name: label, dtype: int64"
      ]
     },
     "execution_count": 31,
     "metadata": {},
     "output_type": "execute_result"
    }
   ],
   "source": [
    "y_test.value_counts()"
   ]
  },
  {
   "cell_type": "code",
   "execution_count": 32,
   "id": "technical-manor",
   "metadata": {},
   "outputs": [],
   "source": [
    "NN = KerasClassifier(build_fn = create_model, epochs=10, batch_size=32, verbose=0)"
   ]
  },
  {
   "cell_type": "code",
   "execution_count": 34,
   "id": "fiscal-leader",
   "metadata": {},
   "outputs": [
    {
     "name": "stdout",
     "output_type": "stream",
     "text": [
      "Epoch 1/10\n",
      "6006/6006 - 9s - loss: 0.3629 - accuracy: 0.8380 - auc: 0.9182 - val_loss: 0.3199 - val_accuracy: 0.8608 - val_auc: 0.9365\n",
      "Epoch 2/10\n",
      "6006/6006 - 8s - loss: 0.3380 - accuracy: 0.8525 - auc: 0.9295 - val_loss: 0.3219 - val_accuracy: 0.8543 - val_auc: 0.9400\n",
      "Epoch 3/10\n",
      "6006/6006 - 8s - loss: 0.3305 - accuracy: 0.8571 - auc: 0.9327 - val_loss: 0.3102 - val_accuracy: 0.8652 - val_auc: 0.9412\n",
      "Epoch 4/10\n",
      "6006/6006 - 8s - loss: 0.3256 - accuracy: 0.8596 - auc: 0.9348 - val_loss: 0.3108 - val_accuracy: 0.8622 - val_auc: 0.9420\n",
      "Epoch 5/10\n",
      "6006/6006 - 8s - loss: 0.3237 - accuracy: 0.8605 - auc: 0.9356 - val_loss: 0.3291 - val_accuracy: 0.8529 - val_auc: 0.9413\n",
      "Epoch 6/10\n",
      "6006/6006 - 8s - loss: 0.3207 - accuracy: 0.8609 - auc: 0.9368 - val_loss: 0.3036 - val_accuracy: 0.8661 - val_auc: 0.9421\n",
      "Epoch 7/10\n",
      "6006/6006 - 8s - loss: 0.3206 - accuracy: 0.8622 - auc: 0.9368 - val_loss: 0.3145 - val_accuracy: 0.8622 - val_auc: 0.9428\n",
      "Epoch 8/10\n",
      "6006/6006 - 8s - loss: 0.3186 - accuracy: 0.8625 - auc: 0.9377 - val_loss: 0.3176 - val_accuracy: 0.8605 - val_auc: 0.9432\n",
      "Epoch 9/10\n",
      "6006/6006 - 8s - loss: 0.3175 - accuracy: 0.8638 - auc: 0.9380 - val_loss: 0.3151 - val_accuracy: 0.8588 - val_auc: 0.9436\n",
      "Epoch 10/10\n",
      "6006/6006 - 8s - loss: 0.3166 - accuracy: 0.8633 - auc: 0.9385 - val_loss: 0.3093 - val_accuracy: 0.8639 - val_auc: 0.9430\n"
     ]
    },
    {
     "data": {
      "text/plain": [
       "<keras.callbacks.History at 0x23bc4705be0>"
      ]
     },
     "execution_count": 34,
     "metadata": {},
     "output_type": "execute_result"
    }
   ],
   "source": [
    "NN.fit(X_train, y_train, validation_data=(X_test, y_test),callbacks=[early_stopping], verbose=2)"
   ]
  },
  {
   "cell_type": "markdown",
   "id": "brief-panama",
   "metadata": {},
   "source": [
    "# Feature importance"
   ]
  },
  {
   "cell_type": "code",
   "execution_count": null,
   "id": "accomplished-customs",
   "metadata": {},
   "outputs": [],
   "source": [
    "from sklearn.model_selection import GridSearchCV"
   ]
  },
  {
   "cell_type": "code",
   "execution_count": null,
   "id": "hybrid-package",
   "metadata": {},
   "outputs": [],
   "source": [
    "from sklearn.inspection import permutation_importance"
   ]
  },
  {
   "cell_type": "code",
   "execution_count": null,
   "id": "frequent-basin",
   "metadata": {},
   "outputs": [],
   "source": [
    "result = permutation_importance(NN, X_test, y_test, random_state=42, scoring='accuracy')"
   ]
  },
  {
   "cell_type": "code",
   "execution_count": null,
   "id": "optical-incident",
   "metadata": {},
   "outputs": [],
   "source": [
    "result.importances_mean"
   ]
  },
  {
   "cell_type": "code",
   "execution_count": null,
   "id": "studied-bloom",
   "metadata": {},
   "outputs": [],
   "source": [
    "result.importances_std"
   ]
  },
  {
   "cell_type": "code",
   "execution_count": null,
   "id": "possible-million",
   "metadata": {},
   "outputs": [],
   "source": [
    "result.importances"
   ]
  },
  {
   "cell_type": "code",
   "execution_count": null,
   "id": "aggressive-costa",
   "metadata": {},
   "outputs": [],
   "source": [
    "featimp = pd.DataFrame(result.importances_mean, columns=['importances_mean'])\n",
    "featimp['feature_name']=input_columns\n",
    "featimp"
   ]
  },
  {
   "cell_type": "code",
   "execution_count": null,
   "id": "adapted-finland",
   "metadata": {
    "scrolled": true
   },
   "outputs": [],
   "source": [
    "plt.rcParams.update({'font.size': 16})\n",
    "sns.set_theme(style=\"whitegrid\")\n",
    "ax = sns.barplot(x=\"importances_mean\", y=\"feature_name\", data=featimp)"
   ]
  },
  {
   "cell_type": "markdown",
   "id": "common-maintenance",
   "metadata": {},
   "source": [
    "# Hyperparameter optimization"
   ]
  },
  {
   "cell_type": "code",
   "execution_count": 35,
   "id": "organized-location",
   "metadata": {},
   "outputs": [],
   "source": [
    "from sklearn.model_selection import RandomizedSearchCV"
   ]
  },
  {
   "cell_type": "markdown",
   "id": "interesting-samoa",
   "metadata": {},
   "source": [
    "param_grid = {'node1':[50, 100, 200],\n",
    "              'node2':[25, 50, 100], \n",
    "              'activation':['relu', 'tanh', 'softplus'], \n",
    "              'optimizer':['adam', 'sgd', 'rmsprop']\n",
    "             }"
   ]
  },
  {
   "cell_type": "markdown",
   "id": "seeing-currency",
   "metadata": {
    "scrolled": true
   },
   "source": [
    "model_cv = GridSearchCV(estimator=NN, param_grid=param_grid, scoring='accuracy', verbose=0)\n",
    "model_cv.fit(undersampled_X_train, undersampled_y_train, validation_data=(X_test, y_test), epochs=10, callbacks=[early_stopping])"
   ]
  },
  {
   "cell_type": "markdown",
   "id": "another-writer",
   "metadata": {},
   "source": [
    "gs_result = pd.DataFrame(model_cv.cv_results_)"
   ]
  },
  {
   "cell_type": "code",
   "execution_count": 42,
   "id": "knowing-consortium",
   "metadata": {},
   "outputs": [],
   "source": [
    "params = dict(optimizer=['sgd','adam','rmsprop'], batch_size=[8,16,32], activation=['relu','tanh'])"
   ]
  },
  {
   "cell_type": "code",
   "execution_count": 43,
   "id": "ultimate-arthur",
   "metadata": {},
   "outputs": [
    {
     "name": "stdout",
     "output_type": "stream",
     "text": [
      "n_combination : 18\n"
     ]
    }
   ],
   "source": [
    "print(f\"n_combination : {3*3*2}\")"
   ]
  },
  {
   "cell_type": "code",
   "execution_count": 44,
   "id": "hollywood-village",
   "metadata": {
    "scrolled": true
   },
   "outputs": [
    {
     "name": "stdout",
     "output_type": "stream",
     "text": [
      "Fitting 5 folds for each of 10 candidates, totalling 50 fits\n",
      "[CV] END .....activation=relu, batch_size=32, optimizer=adam; total time=  51.8s\n",
      "[CV] END .....activation=relu, batch_size=32, optimizer=adam; total time=  51.0s\n",
      "[CV] END .....activation=relu, batch_size=32, optimizer=adam; total time=  53.3s\n",
      "[CV] END .....activation=relu, batch_size=32, optimizer=adam; total time=  51.2s\n",
      "[CV] END .....activation=relu, batch_size=32, optimizer=adam; total time=  56.9s\n",
      "[CV] END ......activation=tanh, batch_size=32, optimizer=sgd; total time=  59.5s\n",
      "[CV] END ......activation=tanh, batch_size=32, optimizer=sgd; total time=  48.5s\n",
      "[CV] END ......activation=tanh, batch_size=32, optimizer=sgd; total time= 1.1min\n",
      "[CV] END ......activation=tanh, batch_size=32, optimizer=sgd; total time=  53.2s\n",
      "[CV] END ......activation=tanh, batch_size=32, optimizer=sgd; total time=  45.5s\n",
      "[CV] END ......activation=relu, batch_size=8, optimizer=adam; total time= 3.8min\n",
      "[CV] END ......activation=relu, batch_size=8, optimizer=adam; total time= 3.7min\n",
      "[CV] END ......activation=relu, batch_size=8, optimizer=adam; total time= 3.9min\n",
      "[CV] END ......activation=relu, batch_size=8, optimizer=adam; total time= 3.9min\n",
      "[CV] END ......activation=relu, batch_size=8, optimizer=adam; total time= 3.8min\n",
      "[CV] END ...activation=relu, batch_size=8, optimizer=rmsprop; total time= 3.9min\n",
      "[CV] END ...activation=relu, batch_size=8, optimizer=rmsprop; total time= 3.6min\n",
      "[CV] END ...activation=relu, batch_size=8, optimizer=rmsprop; total time= 3.6min\n",
      "[CV] END ...activation=relu, batch_size=8, optimizer=rmsprop; total time= 3.9min\n",
      "[CV] END ...activation=relu, batch_size=8, optimizer=rmsprop; total time= 3.6min\n",
      "[CV] END ......activation=tanh, batch_size=8, optimizer=adam; total time= 4.1min\n",
      "[CV] END ......activation=tanh, batch_size=8, optimizer=adam; total time= 3.7min\n",
      "[CV] END ......activation=tanh, batch_size=8, optimizer=adam; total time= 4.0min\n",
      "[CV] END ......activation=tanh, batch_size=8, optimizer=adam; total time= 3.8min\n",
      "[CV] END ......activation=tanh, batch_size=8, optimizer=adam; total time= 4.0min\n",
      "[CV] END ..activation=tanh, batch_size=16, optimizer=rmsprop; total time= 1.8min\n",
      "[CV] END ..activation=tanh, batch_size=16, optimizer=rmsprop; total time= 2.0min\n",
      "[CV] END ..activation=tanh, batch_size=16, optimizer=rmsprop; total time= 2.1min\n",
      "[CV] END ..activation=tanh, batch_size=16, optimizer=rmsprop; total time= 2.0min\n",
      "[CV] END ..activation=tanh, batch_size=16, optimizer=rmsprop; total time= 1.8min\n",
      "[CV] END .....activation=relu, batch_size=16, optimizer=adam; total time= 2.0min\n",
      "[CV] END .....activation=relu, batch_size=16, optimizer=adam; total time= 2.1min\n",
      "[CV] END .....activation=relu, batch_size=16, optimizer=adam; total time= 2.1min\n",
      "[CV] END .....activation=relu, batch_size=16, optimizer=adam; total time= 1.9min\n",
      "[CV] END .....activation=relu, batch_size=16, optimizer=adam; total time= 1.9min\n",
      "[CV] END ..activation=tanh, batch_size=32, optimizer=rmsprop; total time= 1.2min\n",
      "[CV] END ..activation=tanh, batch_size=32, optimizer=rmsprop; total time=  52.8s\n",
      "[CV] END ..activation=tanh, batch_size=32, optimizer=rmsprop; total time= 1.0min\n",
      "[CV] END ..activation=tanh, batch_size=32, optimizer=rmsprop; total time= 1.1min\n",
      "[CV] END ..activation=tanh, batch_size=32, optimizer=rmsprop; total time=  53.6s\n",
      "[CV] END ......activation=relu, batch_size=16, optimizer=sgd; total time= 2.8min\n",
      "[CV] END ......activation=relu, batch_size=16, optimizer=sgd; total time= 2.5min\n",
      "[CV] END ......activation=relu, batch_size=16, optimizer=sgd; total time= 1.8min\n",
      "[CV] END ......activation=relu, batch_size=16, optimizer=sgd; total time= 1.4min\n",
      "[CV] END ......activation=relu, batch_size=16, optimizer=sgd; total time= 1.5min\n",
      "[CV] END .......activation=relu, batch_size=8, optimizer=sgd; total time= 2.9min\n",
      "[CV] END .......activation=relu, batch_size=8, optimizer=sgd; total time= 2.8min\n",
      "[CV] END .......activation=relu, batch_size=8, optimizer=sgd; total time= 2.7min\n",
      "[CV] END .......activation=relu, batch_size=8, optimizer=sgd; total time= 2.8min\n",
      "[CV] END .......activation=relu, batch_size=8, optimizer=sgd; total time= 2.7min\n"
     ]
    }
   ],
   "source": [
    "random_search = RandomizedSearchCV(estimator=NN, param_distributions=params, cv=5, verbose=2)\n",
    "random_search_results = random_search.fit(X_train, y_train)"
   ]
  },
  {
   "cell_type": "markdown",
   "id": "restricted-scale",
   "metadata": {},
   "source": [
    "### Gridseardcv result "
   ]
  },
  {
   "cell_type": "code",
   "execution_count": 46,
   "id": "viral-laser",
   "metadata": {},
   "outputs": [
    {
     "data": {
      "text/plain": [
       "RandomizedSearchCV(cv=5,\n",
       "                   estimator=<keras.wrappers.scikit_learn.KerasClassifier object at 0x0000023BC4651EE0>,\n",
       "                   param_distributions={'activation': ['relu', 'tanh'],\n",
       "                                        'batch_size': [8, 16, 32],\n",
       "                                        'optimizer': ['sgd', 'adam',\n",
       "                                                      'rmsprop']},\n",
       "                   verbose=2)"
      ]
     },
     "execution_count": 46,
     "metadata": {},
     "output_type": "execute_result"
    }
   ],
   "source": [
    "random_search_results"
   ]
  },
  {
   "cell_type": "code",
   "execution_count": 47,
   "id": "educational-fraction",
   "metadata": {},
   "outputs": [],
   "source": [
    "gs_result = pd.DataFrame(random_search.cv_results_)"
   ]
  },
  {
   "cell_type": "code",
   "execution_count": 48,
   "id": "amazing-liabilities",
   "metadata": {},
   "outputs": [
    {
     "data": {
      "text/html": [
       "<div>\n",
       "<style scoped>\n",
       "    .dataframe tbody tr th:only-of-type {\n",
       "        vertical-align: middle;\n",
       "    }\n",
       "\n",
       "    .dataframe tbody tr th {\n",
       "        vertical-align: top;\n",
       "    }\n",
       "\n",
       "    .dataframe thead th {\n",
       "        text-align: right;\n",
       "    }\n",
       "</style>\n",
       "<table border=\"1\" class=\"dataframe\">\n",
       "  <thead>\n",
       "    <tr style=\"text-align: right;\">\n",
       "      <th></th>\n",
       "      <th>mean_fit_time</th>\n",
       "      <th>std_fit_time</th>\n",
       "      <th>mean_score_time</th>\n",
       "      <th>std_score_time</th>\n",
       "      <th>param_optimizer</th>\n",
       "      <th>param_batch_size</th>\n",
       "      <th>param_activation</th>\n",
       "      <th>params</th>\n",
       "      <th>split0_test_score</th>\n",
       "      <th>split1_test_score</th>\n",
       "      <th>split2_test_score</th>\n",
       "      <th>split3_test_score</th>\n",
       "      <th>split4_test_score</th>\n",
       "      <th>mean_test_score</th>\n",
       "      <th>std_test_score</th>\n",
       "      <th>rank_test_score</th>\n",
       "    </tr>\n",
       "  </thead>\n",
       "  <tbody>\n",
       "    <tr>\n",
       "      <th>2</th>\n",
       "      <td>225.238152</td>\n",
       "      <td>5.781075</td>\n",
       "      <td>3.067466</td>\n",
       "      <td>0.423679</td>\n",
       "      <td>adam</td>\n",
       "      <td>8</td>\n",
       "      <td>relu</td>\n",
       "      <td>{'optimizer': 'adam', 'batch_size': 8, 'activa...</td>\n",
       "      <td>0.866219</td>\n",
       "      <td>0.841811</td>\n",
       "      <td>0.860544</td>\n",
       "      <td>0.832653</td>\n",
       "      <td>0.775881</td>\n",
       "      <td>0.835422</td>\n",
       "      <td>0.032166</td>\n",
       "      <td>1</td>\n",
       "    </tr>\n",
       "    <tr>\n",
       "      <th>0</th>\n",
       "      <td>52.040807</td>\n",
       "      <td>2.086004</td>\n",
       "      <td>0.878133</td>\n",
       "      <td>0.102026</td>\n",
       "      <td>adam</td>\n",
       "      <td>32</td>\n",
       "      <td>relu</td>\n",
       "      <td>{'optimizer': 'adam', 'batch_size': 32, 'activ...</td>\n",
       "      <td>0.847929</td>\n",
       "      <td>0.819748</td>\n",
       "      <td>0.868427</td>\n",
       "      <td>0.814518</td>\n",
       "      <td>0.826018</td>\n",
       "      <td>0.835328</td>\n",
       "      <td>0.020084</td>\n",
       "      <td>2</td>\n",
       "    </tr>\n",
       "    <tr>\n",
       "      <th>3</th>\n",
       "      <td>220.220616</td>\n",
       "      <td>9.202499</td>\n",
       "      <td>3.039607</td>\n",
       "      <td>0.342655</td>\n",
       "      <td>rmsprop</td>\n",
       "      <td>8</td>\n",
       "      <td>relu</td>\n",
       "      <td>{'optimizer': 'rmsprop', 'batch_size': 8, 'act...</td>\n",
       "      <td>0.867754</td>\n",
       "      <td>0.853207</td>\n",
       "      <td>0.866216</td>\n",
       "      <td>0.771328</td>\n",
       "      <td>0.802420</td>\n",
       "      <td>0.832185</td>\n",
       "      <td>0.038613</td>\n",
       "      <td>3</td>\n",
       "    </tr>\n",
       "    <tr>\n",
       "      <th>1</th>\n",
       "      <td>53.295432</td>\n",
       "      <td>6.829796</td>\n",
       "      <td>0.992589</td>\n",
       "      <td>0.141548</td>\n",
       "      <td>sgd</td>\n",
       "      <td>32</td>\n",
       "      <td>tanh</td>\n",
       "      <td>{'optimizer': 'sgd', 'batch_size': 32, 'activa...</td>\n",
       "      <td>0.822770</td>\n",
       "      <td>0.830727</td>\n",
       "      <td>0.863354</td>\n",
       "      <td>0.805334</td>\n",
       "      <td>0.819305</td>\n",
       "      <td>0.828298</td>\n",
       "      <td>0.019358</td>\n",
       "      <td>4</td>\n",
       "    </tr>\n",
       "    <tr>\n",
       "      <th>6</th>\n",
       "      <td>119.063896</td>\n",
       "      <td>4.182997</td>\n",
       "      <td>1.745714</td>\n",
       "      <td>0.297585</td>\n",
       "      <td>adam</td>\n",
       "      <td>16</td>\n",
       "      <td>relu</td>\n",
       "      <td>{'optimizer': 'adam', 'batch_size': 16, 'activ...</td>\n",
       "      <td>0.798444</td>\n",
       "      <td>0.847613</td>\n",
       "      <td>0.869312</td>\n",
       "      <td>0.819513</td>\n",
       "      <td>0.799610</td>\n",
       "      <td>0.826898</td>\n",
       "      <td>0.027701</td>\n",
       "      <td>5</td>\n",
       "    </tr>\n",
       "    <tr>\n",
       "      <th>9</th>\n",
       "      <td>164.494530</td>\n",
       "      <td>3.831899</td>\n",
       "      <td>2.664496</td>\n",
       "      <td>0.066413</td>\n",
       "      <td>sgd</td>\n",
       "      <td>8</td>\n",
       "      <td>relu</td>\n",
       "      <td>{'optimizer': 'sgd', 'batch_size': 8, 'activat...</td>\n",
       "      <td>0.829535</td>\n",
       "      <td>0.844621</td>\n",
       "      <td>0.864212</td>\n",
       "      <td>0.777260</td>\n",
       "      <td>0.802602</td>\n",
       "      <td>0.823646</td>\n",
       "      <td>0.030707</td>\n",
       "      <td>6</td>\n",
       "    </tr>\n",
       "    <tr>\n",
       "      <th>8</th>\n",
       "      <td>117.645456</td>\n",
       "      <td>33.419430</td>\n",
       "      <td>1.610332</td>\n",
       "      <td>0.102985</td>\n",
       "      <td>sgd</td>\n",
       "      <td>16</td>\n",
       "      <td>relu</td>\n",
       "      <td>{'optimizer': 'sgd', 'batch_size': 16, 'activa...</td>\n",
       "      <td>0.809449</td>\n",
       "      <td>0.822662</td>\n",
       "      <td>0.868401</td>\n",
       "      <td>0.791908</td>\n",
       "      <td>0.814232</td>\n",
       "      <td>0.821331</td>\n",
       "      <td>0.025592</td>\n",
       "      <td>7</td>\n",
       "    </tr>\n",
       "    <tr>\n",
       "      <th>4</th>\n",
       "      <td>231.548838</td>\n",
       "      <td>8.703202</td>\n",
       "      <td>3.116172</td>\n",
       "      <td>0.284289</td>\n",
       "      <td>adam</td>\n",
       "      <td>8</td>\n",
       "      <td>tanh</td>\n",
       "      <td>{'optimizer': 'adam', 'batch_size': 8, 'activa...</td>\n",
       "      <td>0.777006</td>\n",
       "      <td>0.796358</td>\n",
       "      <td>0.867178</td>\n",
       "      <td>0.826044</td>\n",
       "      <td>0.822610</td>\n",
       "      <td>0.817839</td>\n",
       "      <td>0.030507</td>\n",
       "      <td>8</td>\n",
       "    </tr>\n",
       "    <tr>\n",
       "      <th>7</th>\n",
       "      <td>60.108841</td>\n",
       "      <td>7.092608</td>\n",
       "      <td>1.019116</td>\n",
       "      <td>0.171296</td>\n",
       "      <td>rmsprop</td>\n",
       "      <td>32</td>\n",
       "      <td>tanh</td>\n",
       "      <td>{'optimizer': 'rmsprop', 'batch_size': 32, 'ac...</td>\n",
       "      <td>0.814835</td>\n",
       "      <td>0.799922</td>\n",
       "      <td>0.866086</td>\n",
       "      <td>0.797554</td>\n",
       "      <td>0.804917</td>\n",
       "      <td>0.816663</td>\n",
       "      <td>0.025414</td>\n",
       "      <td>9</td>\n",
       "    </tr>\n",
       "    <tr>\n",
       "      <th>5</th>\n",
       "      <td>113.376309</td>\n",
       "      <td>6.834385</td>\n",
       "      <td>1.756894</td>\n",
       "      <td>0.196118</td>\n",
       "      <td>rmsprop</td>\n",
       "      <td>16</td>\n",
       "      <td>tanh</td>\n",
       "      <td>{'optimizer': 'rmsprop', 'batch_size': 16, 'ac...</td>\n",
       "      <td>0.779582</td>\n",
       "      <td>0.801899</td>\n",
       "      <td>0.868323</td>\n",
       "      <td>0.824483</td>\n",
       "      <td>0.769065</td>\n",
       "      <td>0.808670</td>\n",
       "      <td>0.035409</td>\n",
       "      <td>10</td>\n",
       "    </tr>\n",
       "  </tbody>\n",
       "</table>\n",
       "</div>"
      ],
      "text/plain": [
       "   mean_fit_time  std_fit_time  mean_score_time  std_score_time  \\\n",
       "2     225.238152      5.781075         3.067466        0.423679   \n",
       "0      52.040807      2.086004         0.878133        0.102026   \n",
       "3     220.220616      9.202499         3.039607        0.342655   \n",
       "1      53.295432      6.829796         0.992589        0.141548   \n",
       "6     119.063896      4.182997         1.745714        0.297585   \n",
       "9     164.494530      3.831899         2.664496        0.066413   \n",
       "8     117.645456     33.419430         1.610332        0.102985   \n",
       "4     231.548838      8.703202         3.116172        0.284289   \n",
       "7      60.108841      7.092608         1.019116        0.171296   \n",
       "5     113.376309      6.834385         1.756894        0.196118   \n",
       "\n",
       "  param_optimizer param_batch_size param_activation  \\\n",
       "2            adam                8             relu   \n",
       "0            adam               32             relu   \n",
       "3         rmsprop                8             relu   \n",
       "1             sgd               32             tanh   \n",
       "6            adam               16             relu   \n",
       "9             sgd                8             relu   \n",
       "8             sgd               16             relu   \n",
       "4            adam                8             tanh   \n",
       "7         rmsprop               32             tanh   \n",
       "5         rmsprop               16             tanh   \n",
       "\n",
       "                                              params  split0_test_score  \\\n",
       "2  {'optimizer': 'adam', 'batch_size': 8, 'activa...           0.866219   \n",
       "0  {'optimizer': 'adam', 'batch_size': 32, 'activ...           0.847929   \n",
       "3  {'optimizer': 'rmsprop', 'batch_size': 8, 'act...           0.867754   \n",
       "1  {'optimizer': 'sgd', 'batch_size': 32, 'activa...           0.822770   \n",
       "6  {'optimizer': 'adam', 'batch_size': 16, 'activ...           0.798444   \n",
       "9  {'optimizer': 'sgd', 'batch_size': 8, 'activat...           0.829535   \n",
       "8  {'optimizer': 'sgd', 'batch_size': 16, 'activa...           0.809449   \n",
       "4  {'optimizer': 'adam', 'batch_size': 8, 'activa...           0.777006   \n",
       "7  {'optimizer': 'rmsprop', 'batch_size': 32, 'ac...           0.814835   \n",
       "5  {'optimizer': 'rmsprop', 'batch_size': 16, 'ac...           0.779582   \n",
       "\n",
       "   split1_test_score  split2_test_score  split3_test_score  split4_test_score  \\\n",
       "2           0.841811           0.860544           0.832653           0.775881   \n",
       "0           0.819748           0.868427           0.814518           0.826018   \n",
       "3           0.853207           0.866216           0.771328           0.802420   \n",
       "1           0.830727           0.863354           0.805334           0.819305   \n",
       "6           0.847613           0.869312           0.819513           0.799610   \n",
       "9           0.844621           0.864212           0.777260           0.802602   \n",
       "8           0.822662           0.868401           0.791908           0.814232   \n",
       "4           0.796358           0.867178           0.826044           0.822610   \n",
       "7           0.799922           0.866086           0.797554           0.804917   \n",
       "5           0.801899           0.868323           0.824483           0.769065   \n",
       "\n",
       "   mean_test_score  std_test_score  rank_test_score  \n",
       "2         0.835422        0.032166                1  \n",
       "0         0.835328        0.020084                2  \n",
       "3         0.832185        0.038613                3  \n",
       "1         0.828298        0.019358                4  \n",
       "6         0.826898        0.027701                5  \n",
       "9         0.823646        0.030707                6  \n",
       "8         0.821331        0.025592                7  \n",
       "4         0.817839        0.030507                8  \n",
       "7         0.816663        0.025414                9  \n",
       "5         0.808670        0.035409               10  "
      ]
     },
     "execution_count": 48,
     "metadata": {},
     "output_type": "execute_result"
    }
   ],
   "source": [
    "gs_result.sort_values('rank_test_score')"
   ]
  },
  {
   "cell_type": "markdown",
   "id": "eight-buyer",
   "metadata": {},
   "source": [
    "# Try new set of hyperparameter"
   ]
  },
  {
   "cell_type": "code",
   "execution_count": 64,
   "id": "later-rainbow",
   "metadata": {},
   "outputs": [],
   "source": [
    "model_1 = create_model(activation='relu', optimizer='adam')"
   ]
  },
  {
   "cell_type": "code",
   "execution_count": 65,
   "id": "considered-reach",
   "metadata": {},
   "outputs": [
    {
     "name": "stdout",
     "output_type": "stream",
     "text": [
      "Epoch 1/10\n",
      "6006/6006 - 28s - loss: 0.3421 - accuracy: 0.8501 - auc: 0.9278 - val_loss: 0.3120 - val_accuracy: 0.8619 - val_auc: 0.9416\n",
      "Epoch 2/10\n",
      "6006/6006 - 35s - loss: 0.3233 - accuracy: 0.8607 - auc: 0.9358 - val_loss: 0.3154 - val_accuracy: 0.8625 - val_auc: 0.9426\n",
      "Epoch 3/10\n",
      "6006/6006 - 36s - loss: 0.3197 - accuracy: 0.8629 - auc: 0.9372 - val_loss: 0.3240 - val_accuracy: 0.8548 - val_auc: 0.9433\n",
      "Epoch 4/10\n",
      "6006/6006 - 36s - loss: 0.3170 - accuracy: 0.8632 - auc: 0.9383 - val_loss: 0.2974 - val_accuracy: 0.8720 - val_auc: 0.9433\n",
      "Epoch 5/10\n",
      "6006/6006 - 32s - loss: 0.3158 - accuracy: 0.8643 - auc: 0.9388 - val_loss: 0.3084 - val_accuracy: 0.8637 - val_auc: 0.9441\n",
      "Epoch 6/10\n",
      "6006/6006 - 34s - loss: 0.3146 - accuracy: 0.8648 - auc: 0.9392 - val_loss: 0.3071 - val_accuracy: 0.8680 - val_auc: 0.9436\n",
      "Epoch 7/10\n",
      "6006/6006 - 34s - loss: 0.3135 - accuracy: 0.8655 - auc: 0.9397 - val_loss: 0.3122 - val_accuracy: 0.8615 - val_auc: 0.9438\n",
      "Epoch 8/10\n",
      "6006/6006 - 34s - loss: 0.3131 - accuracy: 0.8658 - auc: 0.9399 - val_loss: 0.3033 - val_accuracy: 0.8671 - val_auc: 0.9441\n",
      "Epoch 9/10\n",
      "6006/6006 - 34s - loss: 0.3127 - accuracy: 0.8656 - auc: 0.9400 - val_loss: 0.3296 - val_accuracy: 0.8521 - val_auc: 0.9431\n",
      "Epoch 10/10\n",
      "6006/6006 - 34s - loss: 0.3112 - accuracy: 0.8669 - auc: 0.9407 - val_loss: 0.3208 - val_accuracy: 0.8584 - val_auc: 0.9445\n"
     ]
    }
   ],
   "source": [
    "history_1 = model_1.fit(X_train, y_train, validation_data=(X_test, y_test), epochs=10, callbacks=[early_stopping], batch_size=32, verbose=2)"
   ]
  },
  {
   "cell_type": "code",
   "execution_count": 68,
   "id": "manual-application",
   "metadata": {},
   "outputs": [
    {
     "data": {
      "image/png": "[encoded data removed]",
      "text/plain": [
       "<Figure size 432x288 with 1 Axes>"
      ]
     },
     "metadata": {},
     "output_type": "display_data"
    }
   ],
   "source": [
    "sns.set_style('whitegrid')\n",
    "plt.figure()\n",
    "plt.plot(history_1.history['auc'])\n",
    "plt.plot(history_1.history['val_auc'])\n",
    "plt.ylim(0.7,1)\n",
    "plt.title('auc learning curve')\n",
    "plt.ylabel('auc')\n",
    "plt.xlabel('Epoch')\n",
    "plt.legend(['Train', 'Test'])\n",
    "plt.show()"
   ]
  },
  {
   "cell_type": "markdown",
   "id": "acting-pennsylvania",
   "metadata": {},
   "source": [
    "# Boosted Decision Tree"
   ]
  },
  {
   "cell_type": "code",
   "execution_count": null,
   "id": "recreational-damages",
   "metadata": {},
   "outputs": [],
   "source": [
    "from sklearn.tree import DecisionTreeClassifier"
   ]
  },
  {
   "cell_type": "code",
   "execution_count": null,
   "id": "desirable-naples",
   "metadata": {},
   "outputs": [],
   "source": [
    "from sklearn.ensemble import AdaBoostClassifier"
   ]
  },
  {
   "cell_type": "code",
   "execution_count": null,
   "id": "beneficial-affair",
   "metadata": {},
   "outputs": [],
   "source": [
    "clf = DecisionTreeClassifier()"
   ]
  },
  {
   "cell_type": "code",
   "execution_count": null,
   "id": "automated-springfield",
   "metadata": {},
   "outputs": [],
   "source": [
    "clf.fit(undersampled_X_train.values, undersampled_y_train.values)"
   ]
  },
  {
   "cell_type": "code",
   "execution_count": null,
   "id": "fabulous-attack",
   "metadata": {},
   "outputs": [],
   "source": [
    "BDT = AdaBoostClassifier(base_estimator=clf, n_estimators=100)"
   ]
  },
  {
   "cell_type": "code",
   "execution_count": null,
   "id": "published-moral",
   "metadata": {},
   "outputs": [],
   "source": [
    "BDT.fit(undersampled_X_train.values, undersampled_y_train.values)"
   ]
  },
  {
   "cell_type": "code",
   "execution_count": null,
   "id": "frozen-equivalent",
   "metadata": {},
   "outputs": [],
   "source": [
    "y_pred = BDT.predict(X_test.values)"
   ]
  },
  {
   "cell_type": "code",
   "execution_count": null,
   "id": "diagnostic-engineer",
   "metadata": {},
   "outputs": [],
   "source": [
    "print(\"Accuracy:\",metrics.accuracy_score(y_test, y_pred))"
   ]
  },
  {
   "cell_type": "code",
   "execution_count": null,
   "id": "civilian-brick",
   "metadata": {},
   "outputs": [],
   "source": [
    "BDT.feature_importances_"
   ]
  },
  {
   "cell_type": "code",
   "execution_count": null,
   "id": "approved-cosmetic",
   "metadata": {},
   "outputs": [],
   "source": [
    "feat_imp_BDT = pd.DataFrame(BDT.feature_importances_, columns=['feature importance'])"
   ]
  },
  {
   "cell_type": "code",
   "execution_count": null,
   "id": "operating-premium",
   "metadata": {},
   "outputs": [],
   "source": [
    "feat_imp_BDT['feature_name']= input_columns"
   ]
  },
  {
   "cell_type": "code",
   "execution_count": null,
   "id": "played-acceptance",
   "metadata": {},
   "outputs": [],
   "source": [
    "sns.set_theme(style=\"whitegrid\")\n",
    "ax = sns.barplot(y=\"feature_name\", x=\"feature importance\", data=feat_imp_BDT)"
   ]
  },
  {
   "cell_type": "code",
   "execution_count": null,
   "id": "nominated-obligation",
   "metadata": {},
   "outputs": [],
   "source": [
    "BDT.fit(X_train_new.values, y_train_new.values)"
   ]
  },
  {
   "cell_type": "code",
   "execution_count": null,
   "id": "becoming-citation",
   "metadata": {},
   "outputs": [],
   "source": [
    "y_pred_new = BDT.predict(X_test_new.values)"
   ]
  },
  {
   "cell_type": "code",
   "execution_count": null,
   "id": "third-beast",
   "metadata": {},
   "outputs": [],
   "source": [
    "print(\"Accuracy:\",metrics.accuracy_score(y_test_new, y_pred_new))"
   ]
  },
  {
   "cell_type": "markdown",
   "id": "private-desire",
   "metadata": {},
   "source": [
    "# ROC curve"
   ]
  },
  {
   "cell_type": "code",
   "execution_count": 59,
   "id": "considerable-colleague",
   "metadata": {},
   "outputs": [],
   "source": [
    "from sklearn.metrics import roc_curve"
   ]
  },
  {
   "cell_type": "code",
   "execution_count": 62,
   "id": "systematic-representative",
   "metadata": {},
   "outputs": [],
   "source": [
    "from sklearn import metrics"
   ]
  },
  {
   "cell_type": "code",
   "execution_count": null,
   "id": "limiting-design",
   "metadata": {},
   "outputs": [],
   "source": [
    "def plot_roc(y_pred1, y_pred2, est1, est2):\n",
    "    fpr1, tpr1, thresholds1 = roc_curve(y_test, y_pred1)\n",
    "    fpr2, tpr2, thresholds2 = roc_curve(y_test, y_pred2)\n",
    "    roc_auc1 = metrics.auc(fpr1, tpr1)\n",
    "    roc_auc2 = metrics.auc(fpr2, tpr2)\n",
    "    plt.plot(fpr1, tpr1)\n",
    "    plt.plot(fpr2, tpr2)\n",
    "    display1 = metrics.RocCurveDisplay(fpr=fpr1, tpr=tpr1, roc_auc=roc_auc1, estimator_name= est1)\n",
    "    display1.plot()\n",
    "    display2 = metrics.RocCurveDisplay(fpr=fpr2, tpr=tpr2, roc_auc=roc_auc2, estimator_name= est2)\n",
    "    display2.plot()\n",
    "    plt.xlabel('False Positive Rate')\n",
    "    plt.ylabel('True Positive Rate')\n",
    "    plt.title('ROC Curve')"
   ]
  },
  {
   "cell_type": "code",
   "execution_count": null,
   "id": "roman-dialogue",
   "metadata": {
    "scrolled": false
   },
   "outputs": [],
   "source": [
    "plot_roc(y_pred, y_pred_proba, 'Neural Network', 'Boosted Decision Tree')"
   ]
  },
  {
   "cell_type": "code",
   "execution_count": null,
   "id": "aware-confidence",
   "metadata": {},
   "outputs": [],
   "source": [
    "y_pred_prob_NN = model.predict(X_test.values)\n",
    "fpr1 , tpr1, thresholds1 = roc_curve(y_test, y_pred_prob_NN)\n",
    "\n",
    "y_pred_prob_BDT = BDT.predict_proba(X_test.values)[:,1]\n",
    "fpr2 , tpr2, thresholds2 = roc_curve(y_test, y_pred_prob_BDT)\n",
    "\n",
    "roc_auc1 = metrics.auc(fpr1, tpr1)\n",
    "roc_auc2 = metrics.auc(fpr2, tpr2)\n",
    "\n",
    "plt.plot([0,1],[0,1], 'k--')\n",
    "plt.plot(fpr1, tpr1, label= f\"Neural Network AUC = {roc_auc1 :.3f}\")\n",
    "plt.plot(fpr2, tpr2, label= f\"Boosted Decision Tree AUC = {roc_auc2 :.3f}\")\n",
    "plt.legend()\n",
    "plt.xlabel(\"False Positive Rate\")\n",
    "plt.ylabel(\"True Positive Rate\")\n",
    "plt.title('Receiver Operating Characteristic [ROC curve]')\n",
    "plt.show()"
   ]
  },
  {
   "cell_type": "code",
   "execution_count": 63,
   "id": "funny-pointer",
   "metadata": {},
   "outputs": [
    {
     "data": {
      "text/plain": [
       "Text(0.5, 1.0, 'Receiver Operating Characteristic [ROC curve]')"
      ]
     },
     "execution_count": 63,
     "metadata": {},
     "output_type": "execute_result"
    },
    {
     "data": {
      "image/png": "[encoded data removed]",
      "text/plain": [
       "<Figure size 432x288 with 1 Axes>"
      ]
     },
     "metadata": {},
     "output_type": "display_data"
    }
   ],
   "source": [
    "y_pred_model0 = model.predict(X_test.values)\n",
    "fpr0 , tpr0, thresholds0 = roc_curve(y_test, y_pred_model0)\n",
    "\n",
    "y_pred_model1 = model_1.predict(X_test.values)\n",
    "fpr1 , tpr1, thresholds1 = roc_curve(y_test, y_pred_model1)\n",
    "\n",
    "roc_auc0 = metrics.auc(fpr0, tpr0)\n",
    "roc_auc1 = metrics.auc(fpr1, tpr1)\n",
    "\n",
    "plt.plot([0,1],[0,1], 'k--')\n",
    "plt.plot(fpr0, tpr0, label= f\"before tuning = {roc_auc0 :.3f}\")\n",
    "plt.plot(fpr1, tpr1, label= f\"after tuning = {roc_auc1 :.3f}\")\n",
    "plt.legend()\n",
    "plt.xlabel(\"False Positive Rate\")\n",
    "plt.ylabel(\"True Positive Rate\")\n",
    "plt.title('Receiver Operating Characteristic [ROC curve]')"
   ]
  },
  {
   "cell_type": "code",
   "execution_count": null,
   "id": "vocal-camcorder",
   "metadata": {},
   "outputs": [],
   "source": []
  }
 ],
 "metadata": {
  "kernelspec": {
   "display_name": "Python 3",
   "language": "python",
   "name": "python3"
  },
  "language_info": {
   "codemirror_mode": {
    "name": "ipython",
    "version": 3
   },
   "file_extension": ".py",
   "mimetype": "text/x-python",
   "name": "python",
   "nbconvert_exporter": "python",
   "pygments_lexer": "ipython3",
   "version": "3.9.1"
  }
 },
 "nbformat": 4,
 "nbformat_minor": 5
}
